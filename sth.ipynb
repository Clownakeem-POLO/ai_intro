{
 "cells": [
  {
   "cell_type": "code",
   "execution_count": 5,
   "id": "5a5251bb",
   "metadata": {},
   "outputs": [
    {
     "data": {
      "text/plain": [
       "2"
      ]
     },
     "execution_count": 5,
     "metadata": {},
     "output_type": "execute_result"
    }
   ],
   "source": [
    "1 + 1"
   ]
  },
  {
   "cell_type": "code",
   "execution_count": 6,
   "id": "7d51ed0f",
   "metadata": {},
   "outputs": [
    {
     "data": {
      "text/plain": [
       "14"
      ]
     },
     "execution_count": 6,
     "metadata": {},
     "output_type": "execute_result"
    }
   ],
   "source": [
    "7 + 7"
   ]
  },
  {
   "cell_type": "code",
   "execution_count": 7,
   "id": "0ccec2f7",
   "metadata": {},
   "outputs": [
    {
     "name": "stdout",
     "output_type": "stream",
     "text": [
      "Pandas is installed. Version: 2.2.3\n"
     ]
    }
   ],
   "source": [
    "try:\n",
    "    import pandas as pd\n",
    "    print(f\"Pandas is installed. Version: {pd.__version__}\")\n",
    "except ImportError:\n",
    "    print(\"Pandas is not installed\")"
   ]
  },
  {
   "cell_type": "markdown",
   "id": "b270d977",
   "metadata": {},
   "source": [
    "import sys\n",
    "import importlib.util\n",
    "\n",
    "# List of popular data science libraries to check\n",
    "libraries = [\n",
    "    \"pandas\", \n",
    "    \"numpy\", \n",
    "    \"matplotlib\", \n",
    "    \"seaborn\", \n",
    "    \"scikit-learn\", \n",
    "    \"tensorflow\", \n",
    "    \"pytorch\", \n",
    "    \"scipy\", \n",
    "    \"statsmodels\",\n",
    "    \"plotly\",\n",
    "    \"keras\",\n",
    "    \"xgboost\",\n",
    "    \"nltk\",\n",
    "    \"opencv-python\"\n",
    "]\n",
    "\n",
    "print(\"Checking installed libraries:\")\n",
    "print(\"-\" * 50)\n",
    "\n",
    "for lib in libraries:\n",
    "    # Handle special package name cases\n",
    "    pip_name = lib\n",
    "    import_name = lib\n",
    "    \n",
    "    if lib == \"scikit-learn\":\n",
    "        import_name = \"sklearn\"\n",
    "    elif lib == \"pytorch\":\n",
    "        import_name = \"torch\"\n",
    "    elif lib == \"opencv-python\":\n",
    "        import_name = \"cv2\"\n",
    "    \n",
    "    # Check if library is installed\n",
    "    spec = importlib.util.find_spec(import_name)\n",
    "    \n",
    "    if spec is not None:\n",
    "        # If installed, try to get version\n",
    "        try:\n",
    "            module = __import__(import_name)\n",
    "            if hasattr(module, \"__version__\"):\n",
    "                version = module.__version__\n",
    "            elif hasattr(module, \"version\"):\n",
    "                version = module.version\n",
    "            elif hasattr(module, \"VERSION\"):\n",
    "                version = module.VERSION\n",
    "            else:\n",
    "                version = \"unknown version\"\n",
    "            print(f\"✓ {lib}: Installed (Version: {version})\")\n",
    "        except Exception as e:\n",
    "            print(f\"✓ {lib}: Installed but couldn't get version - {str(e)}\")\n",
    "    else:\n",
    "        print(f\"✗ {lib}: Not installed\")\n",
    "\n",
    "print(\"-\" * 50)\n",
    "print(f\"Python version: {sys.version}\")"
   ]
  },
  {
   "cell_type": "code",
   "execution_count": 8,
   "id": "a80caff6",
   "metadata": {},
   "outputs": [
    {
     "name": "stdout",
     "output_type": "stream",
     "text": [
      "Checking installed libraries:\n",
      "--------------------------------------------------\n",
      "✓ pandas: Installed (Version: 2.2.3)\n",
      "✓ numpy: Installed (Version: 2.2.5)\n",
      "✓ matplotlib: Installed (Version: 3.10.1)\n",
      "✓ seaborn: Installed (Version: 0.13.2)\n",
      "✓ scikit-learn: Installed (Version: 1.6.1)\n",
      "✗ tensorflow: Not installed\n",
      "✗ pytorch: Not installed\n",
      "✓ scipy: Installed (Version: 1.15.2)\n",
      "✗ statsmodels: Not installed\n",
      "✗ plotly: Not installed\n",
      "✗ keras: Not installed\n",
      "✗ xgboost: Not installed\n",
      "✗ nltk: Not installed\n",
      "✗ opencv-python: Not installed\n",
      "--------------------------------------------------\n",
      "Python version: 3.13.3 (tags/v3.13.3:6280bb5, Apr  8 2025, 14:47:33) [MSC v.1943 64 bit (AMD64)]\n"
     ]
    }
   ],
   "source": [
    "import sys\n",
    "import importlib.util\n",
    "\n",
    "# List of popular data science libraries to check\n",
    "libraries = [\n",
    "    \"pandas\", \n",
    "    \"numpy\", \n",
    "    \"matplotlib\", \n",
    "    \"seaborn\", \n",
    "    \"scikit-learn\", \n",
    "    \"tensorflow\", \n",
    "    \"pytorch\", \n",
    "    \"scipy\", \n",
    "    \"statsmodels\",\n",
    "    \"plotly\",\n",
    "    \"keras\",\n",
    "    \"xgboost\",\n",
    "    \"nltk\",\n",
    "    \"opencv-python\"\n",
    "]\n",
    "\n",
    "print(\"Checking installed libraries:\")\n",
    "print(\"-\" * 50)\n",
    "\n",
    "for lib in libraries:\n",
    "    # Handle special package name cases\n",
    "    pip_name = lib\n",
    "    import_name = lib\n",
    "    \n",
    "    if lib == \"scikit-learn\":\n",
    "        import_name = \"sklearn\"\n",
    "    elif lib == \"pytorch\":\n",
    "        import_name = \"torch\"\n",
    "    elif lib == \"opencv-python\":\n",
    "        import_name = \"cv2\"\n",
    "    \n",
    "    # Check if library is installed\n",
    "    spec = importlib.util.find_spec(import_name)\n",
    "    \n",
    "    if spec is not None:\n",
    "        # If installed, try to get version\n",
    "        try:\n",
    "            module = __import__(import_name)\n",
    "            if hasattr(module, \"__version__\"):\n",
    "                version = module.__version__\n",
    "            elif hasattr(module, \"version\"):\n",
    "                version = module.version\n",
    "            elif hasattr(module, \"VERSION\"):\n",
    "                version = module.VERSION\n",
    "            else:\n",
    "                version = \"unknown version\"\n",
    "            print(f\"✓ {lib}: Installed (Version: {version})\")\n",
    "        except Exception as e:\n",
    "            print(f\"✓ {lib}: Installed but couldn't get version - {str(e)}\")\n",
    "    else:\n",
    "        print(f\"✗ {lib}: Not installed\")\n",
    "\n",
    "print(\"-\" * 50)\n",
    "print(f\"Python version: {sys.version}\")"
   ]
  }
 ],
 "metadata": {
  "kernelspec": {
   "display_name": "Python 3",
   "language": "python",
   "name": "python3"
  },
  "language_info": {
   "codemirror_mode": {
    "name": "ipython",
    "version": 3
   },
   "file_extension": ".py",
   "mimetype": "text/x-python",
   "name": "python",
   "nbconvert_exporter": "python",
   "pygments_lexer": "ipython3",
   "version": "3.13.3"
  }
 },
 "nbformat": 4,
 "nbformat_minor": 5
}
